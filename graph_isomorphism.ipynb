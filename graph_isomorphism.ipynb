{
 "cells": [
  {
   "attachments": {},
   "cell_type": "markdown",
   "metadata": {},
   "source": [
    "# The Graph Isomorphism Problem"
   ]
  },
  {
   "attachments": {},
   "cell_type": "markdown",
   "metadata": {},
   "source": [
    "<h4> What is it? </h4>"
   ]
  },
  {
   "attachments": {},
   "cell_type": "markdown",
   "metadata": {},
   "source": [
    "<p> The Graph Isomorphism problem is a fundamental problem in computer science that deals with determining whether two given graphs are isomorphic, meaning that they have the same structure but may have different node or edge labels. More formally, given two graphs G and H, the Graph Isomorphism problem asks whether there exists a bijective function f from the set of nodes of G to the set of nodes of H such that for any two nodes u and v in G, u and v are adjacent in G if and only if f(u) and f(v) are adjacent in H.\n",
    "\n",
    "The Graph Isomorphism problem has been studied extensively in theoretical computer science and is known to be in the complexity class NP (nondeterministic polynomial time). However, it is not known whether it is in P (polynomial time) or NP-complete (meaning that it is at least as hard as any other problem in NP).\n",
    "\n",
    "Despite its theoretical importance, the Graph Isomorphism problem does not arise frequently in practical applications. Nonetheless, it has connections to other areas of computer science, such as cryptography and computational biology, and has also been used as a benchmark problem for the development of algorithms for graph matching and subgraph isomorphism. </p>"
   ]
  },
  {
   "attachments": {},
   "cell_type": "markdown",
   "metadata": {},
   "source": [
    "<h3> Why is this an issue? </h3>"
   ]
  },
  {
   "attachments": {},
   "cell_type": "markdown",
   "metadata": {},
   "source": [
    "While the Graph Isomorphism problem is not known to be in P or NP-complete, it is in the complexity class co-AM, which means that its complement problem (determining whether two graphs are not isomorphic) can be solved in probabilistic polynomial time using an Arthur-Merlin protocol. [1]\n",
    "\n",
    "The Graph Isomorphism problem has connections to other problems in theoretical computer science, such as the problem of testing graph properties in bounded degree graphs and the problem of constructing expanders. [2]\n",
    "\n",
    "In 2015, László Babai published a breakthrough result in which he claimed to have found a quasi-polynomial time algorithm for the Graph Isomorphism problem. However, the correctness of the algorithm has been debated in the research community, and it is still an open question whether Babai's algorithm is correct. [3]\n",
    "\n",
    "There are several practical algorithms for solving the Graph Isomorphism problem, such as the VF2 algorithm and the nauty algorithm. These algorithms are typically efficient for small to medium-sized graphs, but can become computationally infeasible for large graphs. [4]"
   ]
  },
  {
   "attachments": {},
   "cell_type": "markdown",
   "metadata": {},
   "source": [
    "<h3> How can a Graph be considered Isomorphic? </h3>"
   ]
  },
  {
   "attachments": {},
   "cell_type": "markdown",
   "metadata": {},
   "source": [
    "Two graphs G and H are said to be isomorphic if there exists a bijective function f from the set of nodes (vertices) of G to the set of nodes of H such that for any two nodes u and v in G, u and v are adjacent in G if and only if f(u) and f(v) are adjacent in H. In other words, two graphs are isomorphic if they have the same structure, but the nodes in one graph are simply labeled differently from those in the other graph.\n",
    "\n",
    "Here's an example of Python code to check whether two graphs are isomorphic using the NetworkX library:"
   ]
  },
  {
   "cell_type": "code",
   "execution_count": null,
   "metadata": {},
   "outputs": [],
   "source": [
    "import networkx as nx\n",
    "\n",
    "# Define the first graph\n",
    "G = nx.Graph()\n",
    "G.add_edges_from([(1, 2), (1, 3), (2, 4), (3, 4)])\n",
    "\n",
    "# Define the second graph\n",
    "H = nx.Graph()\n",
    "H.add_edges_from([('A', 'B'), ('A', 'C'), ('B', 'D'), ('C', 'D')])\n",
    "\n",
    "# Check if the two graphs are isomorphic\n",
    "if nx.is_isomorphic(G, H):\n",
    "    print(\"The two graphs are isomorphic\")\n",
    "else:\n",
    "    print(\"The two graphs are not isomorphic\")"
   ]
  },
  {
   "cell_type": "markdown",
   "metadata": {},
   "source": [
    "In this code, we first define two graphs G and H using the Graph() function from the NetworkX library. We add edges to the graphs using the add_edges_from() function.\n",
    "\n",
    "We then use the is_isomorphic() function from the NetworkX library to check whether the two graphs are isomorphic. If the graphs are isomorphic, the code prints \"The two graphs are isomorphic\". Otherwise, it prints \"The two graphs are not isomorphic\".\n",
    "\n",
    "Note that the is_isomorphic() function checks for graph isomorphism using a heuristic algorithm that is based on graph invariants. While this algorithm is efficient for many practical purposes, it is not guaranteed to find all isomorphisms in all cases."
   ]
  },
  {
   "cell_type": "markdown",
   "metadata": {},
   "source": [
    "References:\n",
    "\n",
    "Arora, S., & Barak, B. (2009). Computational complexity: a modern approach. Cambridge University Press. [1]\n",
    "\n",
    "Babai, L. (2016). Graph isomorphism in quasipolynomial time. Proceedings of the 48th Annual ACM SIGACT Symposium on Theory of Computing, 684-697. [2]\n",
    "\n",
    "McKay, B. D. (2014). Practical graph isomorphism, II. Journal of Symbolic Computation, 60, 94-112. [3]\n",
    "\n",
    "Spielman, D. A., & Teng, S.-H. (2004). Smoothed analysis of algorithms: Why the simplex algorithm usually takes polynomial time. Journal of the ACM, 51(3), 385-463. [4]\n"
   ]
  }
 ],
 "metadata": {
  "kernelspec": {
   "display_name": "Python 3",
   "language": "python",
   "name": "python3"
  },
  "language_info": {
   "name": "python",
   "version": "3.9.13"
  },
  "orig_nbformat": 4
 },
 "nbformat": 4,
 "nbformat_minor": 2
}
