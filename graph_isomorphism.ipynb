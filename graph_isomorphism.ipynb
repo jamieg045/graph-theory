{
 "cells": [
  {
   "attachments": {},
   "cell_type": "markdown",
   "metadata": {},
   "source": [
    "# The Graph Isomorphism Problem"
   ]
  },
  {
   "attachments": {},
   "cell_type": "markdown",
   "metadata": {},
   "source": [
    "<h4> What is it? </h4>"
   ]
  },
  {
   "attachments": {},
   "cell_type": "markdown",
   "metadata": {},
   "source": [
    "<p> The Graph Isomorphism problem is a computational problem in graph theory that asks whether two given graphs are isomorphic, i.e., whether they have the same structure, but possibly with different vertex and edge labels.\n",
    "\n",
    "More formally, given two graphs G and H with n vertices and m edges, the Graph Isomorphism problem asks whether there exists a bijection (one-to-one and onto mapping) f : V(G) → V(H) such that for any pair of vertices u,v ∈ V(G), (u,v) is an edge in G if and only if (f(u),f(v)) is an edge in H.\n",
    "\n",
    "The Graph Isomorphism problem is known to be in the complexity class NP, but it is not known to be NP-complete or in P. Despite decades of research, no efficient algorithm is known to solve the Graph Isomorphism problem for all instances. However, there exist efficient algorithms for certain special cases of the problem, and the problem is widely studied in the field of computational complexity theory. </p>"
   ]
  }
 ],
 "metadata": {
  "language_info": {
   "name": "python"
  },
  "orig_nbformat": 4
 },
 "nbformat": 4,
 "nbformat_minor": 2
}
